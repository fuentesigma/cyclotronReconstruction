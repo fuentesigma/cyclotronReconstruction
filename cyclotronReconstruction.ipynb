{
 "cells": [
  {
   "cell_type": "code",
   "execution_count": null,
   "id": "e2cf9ab5",
   "metadata": {},
   "outputs": [],
   "source": [
    "using Pkg; Pkg.activate(\".\"); Pkg.instantiate()\n",
    "# ----------------------------------------------------------------/\n",
    "using OrdinaryDiffEq, ModelingToolkit, DataDrivenDiffEq\n",
    "using LinearAlgebra, ComponentArrays, Random\n",
    "# ----------------------------------------------------------------/\n",
    "#OptimizationFlux for ADAM and OptimizationOptimJL for BFGS\n",
    "using Optimization, OptimizationOptimisers, OptimizationOptimJL\n",
    "using DiffEqSensitivity, Lux\n",
    "# ----------------------------------------------------------------/\n",
    "#using JLD2, FileIO\n",
    "using Statistics, JLD2, LaTeXStrings, Plots, Interact\n",
    "gr()\n",
    "theme(:bright)"
   ]
  },
  {
   "cell_type": "code",
   "execution_count": null,
   "id": "c2651b30",
   "metadata": {},
   "outputs": [],
   "source": [
    "# Set a random seed for reproduceable behaviour\n",
    "rng = Random.default_rng()\n",
    "Random.seed!(1234)"
   ]
  },
  {
   "cell_type": "markdown",
   "id": "876dc722",
   "metadata": {},
   "source": [
    "# Charged classical particle in a homogeneous magnetic field"
   ]
  },
  {
   "cell_type": "markdown",
   "id": "065b463e",
   "metadata": {},
   "source": [
    "## Model"
   ]
  },
  {
   "cell_type": "code",
   "execution_count": null,
   "id": "7dba3888",
   "metadata": {},
   "outputs": [],
   "source": [
    "function cyclotron!(du, u, p, t)\n",
    "    α, β, ϕx, ϕy = p\n",
    "    du[1] =  β*u[2] + u[3]\n",
    "    du[2] = -β*u[1] + u[4] \n",
    "    du[3] =  β*u[4] - (β^2 + α)*u[1] + ϕx\n",
    "    du[4] = -β*u[3] - (β^2 + α)*u[2] + ϕy\n",
    "end"
   ]
  },
  {
   "cell_type": "markdown",
   "id": "0f3b53b4",
   "metadata": {},
   "source": [
    "# Solve perturbed motion"
   ]
  },
  {
   "cell_type": "code",
   "execution_count": null,
   "id": "7c8625e7",
   "metadata": {},
   "outputs": [],
   "source": [
    "# Interval of integration and size of steps\n",
    "tspan = (0, 19.9)\n",
    "dx = 1e-2\n",
    "# Initial contidions: x, y, px, py,\n",
    "u0 = [0, 0, 1.5, 0]\n",
    "#= Parameters:\n",
    "    amplitude of the potential field\n",
    "    amplitude of the magnetic field\n",
    "    external force aligned in Ox and Oy\n",
    "=#\n",
    "# Perturbed parameters\n",
    "p̃ = [2, 3, 0, 1]\n",
    "# -------------------------------------------------/\n",
    "# Perturbed solution\n",
    "perturbed_solution = solve(\n",
    "    ODEProblem(cyclotron!, u0, tspan, p̃),\n",
    "    RK4(),\n",
    "    abstol=1e-6,\n",
    "    reltol=1e-6,\n",
    "    saveat=dx)\n",
    "# Create an array for the perturbed solution\n",
    "X̃ = Array(perturbed_solution)\n",
    "t̃ = perturbed_solution.t\n",
    "# -------------------------------------------------/\n",
    "# Plots\n",
    "# Perturbed solution\n",
    "plot(X̃[1,:], X̃[2,:], style=:solid, color=\"#13B9D3\", lw=6, label=nothing)\n",
    "# Initial condition\n",
    "scatter!([X̃[1,1]], [X̃[2,1]], color=\"#3CA2D8\", ms=9, label=nothing)\n",
    "# Plot attributes and settings\n",
    "plot!(xlabel=L\"x(t)\", ylabel=L\"y(t)\",\n",
    "    size=(800, 800),\n",
    "    margin=2mm,\n",
    "    xtickfont=font(12),\n",
    "    ytickfont=font(12),\n",
    "    guidefont=font(18),\n",
    "    framestyle=:box)\n",
    "savefig(\"cyclotron/fullCyclotron.pdf\")"
   ]
  },
  {
   "cell_type": "markdown",
   "id": "5a1b82c3",
   "metadata": {},
   "source": [
    "### Incomplete cycles for data generation"
   ]
  },
  {
   "cell_type": "code",
   "execution_count": null,
   "id": "d3d872af",
   "metadata": {},
   "outputs": [],
   "source": [
    "# Interval of integration and size of steps\n",
    "tspan = (0, 5)\n",
    "# -------------------------------------------------/\n",
    "# Perturbed solution\n",
    "dx=5e-2\n",
    "perturbed_solution = solve(\n",
    "    ODEProblem(cyclotron!, u0, tspan, p̃),\n",
    "    RK4(),\n",
    "    abstol=1e-6,\n",
    "    reltol=1e-6,\n",
    "    saveat=dx)\n",
    "# Create an array for the perturbed solution\n",
    "X̃ = Array(perturbed_solution)\n",
    "t̃ = perturbed_solution.t\n",
    "# -------------------------------------------------/\n",
    "# Plots\n",
    "# Perturbed solution\n",
    "plot(X̃[1,:], X̃[2,:], style=:solid, color=\"#13B9D3\", lw=5, label=nothing)\n",
    "# Initial condition\n",
    "scatter!([X̃[1,1]], [X̃[2,1]], color=\"#3CA2D8\", ms=8, label=nothing)\n",
    "# Plot attributes and settings\n",
    "plot!(xlabel=L\"x\", ylabel=L\"y\",\n",
    "    size=(600,600),\n",
    "    margin=2mm,\n",
    "    xtickfont=font(11),\n",
    "    ytickfont=font(11),\n",
    "    guidefont=font(16),\n",
    "    framestyle=:box)\n",
    "#savefig(\"cyclotron/classicalCyclotron.pdf\")"
   ]
  },
  {
   "cell_type": "markdown",
   "id": "3fd83c53",
   "metadata": {},
   "source": [
    "### Generate noisy data"
   ]
  },
  {
   "cell_type": "code",
   "execution_count": null,
   "id": "42e3d09b",
   "metadata": {},
   "outputs": [],
   "source": [
    "σ = 1e-3\n",
    "μ = mean(X̃, dims=4)\n",
    "X̂ = X̃ .+ (σ*μ) .* randn(eltype(X̃), size(X̃))\n",
    "\n",
    "@save \"noisydata_cyclotron.jld2\" X̂\n",
    "\n",
    "# Plots\n",
    "plotData = plot(X̃[1,:], X̃[2,:], color=\"#13B9D3\", lw=6, label=nothing)\n",
    "scatter!([X̃[1,1]], [X̃[2,1]], color=\"#680AC7\", ms=8, label=nothing)\n",
    "scatter!(transpose(X̂[1,:]), transpose(X̂[2,:]),\n",
    "    color=\"#724A83\",\n",
    "    alpha=0.75,\n",
    "    ms=7,\n",
    "    label=nothing)\n",
    "plot!(xlabel=L\"x(t)\", ylabel=L\"y(t)\",\n",
    "    size=(600,600),\n",
    "    margin=2mm,\n",
    "    xtickfont=font(12),\n",
    "    ytickfont=font(12),\n",
    "    guidefont=font(16),\n",
    "    framestyle=:box)\n",
    "savefig(\"cyclotron/classicalCyclotron_noisy.pdf\")"
   ]
  },
  {
   "cell_type": "markdown",
   "id": "0fb0d17c",
   "metadata": {},
   "source": [
    "### Animation (optional)"
   ]
  },
  {
   "cell_type": "code",
   "execution_count": null,
   "id": "8fb2d2ff",
   "metadata": {},
   "outputs": [],
   "source": [
    "#=\n",
    "anim = @animate for i in 1:length(X̃[1,:])\n",
    "    plot(X̃[1,:], X̃[2,:], color=\"#00C1EC\", alpha=0.5, lw=5, label=nothing)\n",
    "    plot!(xlabel=L\"x\", ylabel=L\"y\",\n",
    "        size=(600,600),\n",
    "        margin=5mm,\n",
    "        xtickfont=font(11), \n",
    "        ytickfont=font(11),\n",
    "        guidefont=font(15),\n",
    "        framestyle=:semi\n",
    "    )\n",
    "    scatter!([X̃[1,i]], [X̃[2,i]],\n",
    "        color=\"#F97489\",\n",
    "        ms=12,\n",
    "        label=nothing\n",
    "    )\n",
    "end\n",
    "\n",
    "gif(anim, fps=24)\n",
    "=#"
   ]
  },
  {
   "cell_type": "markdown",
   "id": "af5ff1c4",
   "metadata": {},
   "source": [
    "# Define neural network for UDE parameterisation"
   ]
  },
  {
   "cell_type": "code",
   "execution_count": null,
   "id": "22835ef5",
   "metadata": {},
   "outputs": [],
   "source": [
    "n = 10\n",
    "\n",
    "# Define network\n",
    "U = Lux.Chain(\n",
    "        Lux.Dense(4, n, tanh),\n",
    "        Lux.Dense(n, n, tanh),\n",
    "        Lux.Dense(n, n, tanh),\n",
    "        Lux.Dense(n, 4))\n",
    "\n",
    "# Get the initial parameters and state variables of the model\n",
    "p_nn, state_vars = Lux.setup(rng, U) .|> gpu\n",
    "\n",
    "function ude_dynamics!(du, u, p, t, p_true)\n",
    "    # Network function\n",
    "    û = U(u, p, state_vars)[1]\n",
    "    # Parameters\n",
    "    α, β, ϕx, ϕy = p_true\n",
    "    # ODE system\n",
    "    du[1] =  β*u[2] + u[3] \n",
    "    du[2] = -β*u[1] + u[4]\n",
    "    du[3] =  β*u[4] + û[1] \n",
    "    du[4] = -β*u[3] - û[2]\n",
    "end\n",
    "\n",
    "nn_dynamics!(du, u, p_nn, t) = ude_dynamics!(du, u, p_nn, t̃, p̃)\n",
    "\n",
    "# Define the problem for NNs --- X̂[:,1] is the initial datum\n",
    "problem_nn = ODEProblem(nn_dynamics!, X̂[:,1], tspan, p_nn)\n",
    "\n",
    "# Define a predictor\n",
    "function predict(θ, X=X̂[:,1], T=t̃)\n",
    "    problem_predict = remake(problem_nn, u0=X, tspan=(T[1], T[end]), p=θ)\n",
    "    Array(\n",
    "        solve(\n",
    "            problem_predict,\n",
    "            Tsit5(), \n",
    "            saveat=T,\n",
    "            abstol=1e-6,\n",
    "            reltol=1e-6,\n",
    "            sensealg=ForwardDiffSensitivity()\n",
    "        )\n",
    "    )\n",
    "end\n",
    "\n",
    "# Simple L₂ loss\n",
    "function loss(θ)\n",
    "    sum(abs2, X̂ .- predict(θ))\n",
    "end\n",
    "\n",
    "# Callback options\n",
    "losses = Float64[]\n",
    "callback = function (p, l)\n",
    "    push!(losses, l)\n",
    "    if length(losses) % 50 == 0\n",
    "        println(\"Epochs: $(length(losses)) -- Current loss: $(losses[end])\")\n",
    "    end\n",
    "    return false\n",
    "end"
   ]
  },
  {
   "cell_type": "markdown",
   "id": "2f215951",
   "metadata": {},
   "source": [
    "# Training"
   ]
  },
  {
   "cell_type": "code",
   "execution_count": null,
   "id": "537e7fa1",
   "metadata": {},
   "outputs": [],
   "source": [
    "M, N = 500, 1000\n",
    "\n",
    "# Optimisation function\n",
    "opfun = Optimization.OptimizationFunction((x, p) -> loss(x), Optimization.AutoZygote())\n",
    "\n",
    "# Optimisation block with ADAM\n",
    "println(\"Training with ADAM\")\n",
    "ADAM_ = Optimization.OptimizationProblem(opfun, ComponentVector{Float64}(p_nn))\n",
    "rADAM = Optimization.solve(ADAM_, Adam(0.1), callback=callback, maxiters=M)\n",
    "\n",
    "# Optimisation block with BFGS\n",
    "println(\"Training with BFGS\")\n",
    "BFGS_ = Optimization.OptimizationProblem(opfun, rADAM.minimizer)\n",
    "sBFGS = Optimization.solve(BFGS1, Optim.BFGS(initial_stepnorm=0.01), callback=callback, maxiters=N)"
   ]
  },
  {
   "cell_type": "code",
   "execution_count": null,
   "id": "0f4dc0d5",
   "metadata": {},
   "outputs": [],
   "source": [
    "# Plots\n",
    "plot(1:M, losses[1:M],\n",
    "    yaxis=:log10, xaxis=:log10,\n",
    "    xlabel=\"Iterations\",\n",
    "    ylabel=\"Loss\",\n",
    "    label=\"ADAM\",\n",
    "    color=\"#0E9BEB\",\n",
    "    lw=4)\n",
    "plot!(M:length(losses), losses[M:end],\n",
    "    yaxis=:log10, xaxis=:log10,\n",
    "    label=\"BFGS\",\n",
    "    color=\"#A284FE\",\n",
    "    lw=4)\n",
    "plot!(\n",
    "    margin=5mm,\n",
    "    size=(800,500),\n",
    "    xtickfont=font(12),\n",
    "    ytickfont=font(12),\n",
    "    guidefont=font(16),\n",
    "    framestyle=:box)\n",
    "savefig(\"cyclotron/minimisationRate.pdf\")"
   ]
  },
  {
   "cell_type": "markdown",
   "id": "f9c5c07e",
   "metadata": {},
   "source": [
    "## Prediction and analysis of solutions"
   ]
  },
  {
   "cell_type": "code",
   "execution_count": null,
   "id": "a399ab03",
   "metadata": {},
   "outputs": [],
   "source": [
    "p̄ = sBFGS.minimizer\n",
    "X̄ = predict(p̄, X̂[:,1], t̃)\n",
    "Ȳ = U(X̄, p̄, state_vars)[1]\n",
    "\n",
    "@save \"cyclotron/trainedParameters.jld2\" p̄ X̄ Ȳ\n",
    "\n",
    "# Noisy data vs learned solution\n",
    "# Plots\n",
    "plotLearn = plot(X̄[1,:], X̄[2,:], color=\"#132DBD\", lw=6, label=nothing)\n",
    "scatter!(transpose(X̂[1,:]), transpose(X̂[2,:]),\n",
    "    color=\"#6FCE75\",\n",
    "    msc=\"#6FCE75\",\n",
    "    alpha=0.5,\n",
    "    ms=10,\n",
    "    label=nothing)\n",
    "plot!(xlabel=L\"x(t)\", ylabel=L\"y(t)\",\n",
    "    size=(700,700),\n",
    "    margin=4mm,\n",
    "    xtickfont=font(12),\n",
    "    ytickfont=font(12),\n",
    "    guidefont=font(16),\n",
    "    framestyle=:box)\n",
    "savefig(\"cyclotron/learnedCyclotron.pdf\")"
   ]
  },
  {
   "cell_type": "markdown",
   "id": "0c5d4780",
   "metadata": {},
   "source": [
    "# Dynamical reconstruction"
   ]
  },
  {
   "cell_type": "code",
   "execution_count": null,
   "id": "7b507c43",
   "metadata": {},
   "outputs": [],
   "source": [
    "function dynReconstruction!(du, u, p0, t)\n",
    "    # Prediction from the network\n",
    "    û = nn_ude(u, p0)\n",
    "    # True parameters\n",
    "    α, β, ϕx, ϕy = p̃\n",
    "    # ODE system\n",
    "    du[1] =  β*u[2] + u[3] \n",
    "    du[2] = -β*u[1] + u[4]\n",
    "    du[3] =  β*u[4] + û[1] \n",
    "    du[4] = -β*u[3] - û[2]\n",
    "end\n",
    "\n",
    "# Create a Basis\n",
    "@variables u[1:4]\n",
    "\n",
    "# Generate the basis functions, multivariate polynomials up to deg 5 and sine\n",
    "b = [polynomial_basis(u, 5); cos.(u)]\n",
    "basis = Basis(b, u);\n",
    "\n",
    "# Create the thresholds for seeking purposes\n",
    "λ = exp10.(-2:1e-2:2.5)\n",
    "\n",
    "# Create an optimizer for the SINDy problem\n",
    "opt = STLSQ(λ)\n",
    "\n",
    "# Test on ideal derivative data for unknown function\n",
    "println(\"Sparse regression\")\n",
    "nn_ude = solve(\n",
    "            DirectDataDrivenProblem(X̄, Ȳ),\n",
    "            basis, \n",
    "            opt, \n",
    "            progress=true, \n",
    "            sampler=DataSampler(Batcher(n=5, shuffle=true, repeated=true))\n",
    ")\n",
    "\n",
    "println(parameters(nn_ude))\n",
    "\n",
    "# Solve the dynamical hybrid model \n",
    "nn_solution = solve(\n",
    "                ODEProblem(dynReconstruction!, u0, tspan, parameters(nn_ude)), \n",
    "                Tsit5(),\n",
    "                saveat=t̃)"
   ]
  },
  {
   "cell_type": "code",
   "execution_count": null,
   "id": "a5b011a4",
   "metadata": {},
   "outputs": [],
   "source": [
    "# Plot\n",
    "Ỹ = Array(nn_solution)\n",
    "plot(X̃[4,:], lw=4, color=\"#FB65AA\", label=\"true\")\n",
    "plot!(Ỹ[4,:], lw=0, markershape=:circle, ms=6, color=\"#33C3D3\", label=\"learned\")\n",
    "plot!(xtickfont=font(12), ytickfont=font(12), guidefont=font(16), size=(600, 400), framestyle=:box)\n",
    "#savefig(\"cyclotron/reconstructedDynamics.pdf\")"
   ]
  },
  {
   "cell_type": "code",
   "execution_count": null,
   "id": "378b3ebc",
   "metadata": {},
   "outputs": [],
   "source": [
    "@save \"cyclotron/reconstructedParameters.jld2\" nn_ude"
   ]
  },
  {
   "cell_type": "markdown",
   "id": "c60537c5",
   "metadata": {},
   "source": [
    "# Long-term prediction"
   ]
  },
  {
   "cell_type": "code",
   "execution_count": null,
   "id": "45172d86",
   "metadata": {},
   "outputs": [],
   "source": [
    "dτ = 1e-2\n",
    "t_long = (0, 19.9)\n",
    "\n",
    "lt_ode_pre = ODEProblem(dynReconstruction!, X̄[:,1], t_long, parameters(nn_ude))\n",
    "lt_predict = solve(lt_ode_pre, Rosenbrock23(), abstol=1e-6, reltol=1e-6, saveat=dτ)\n",
    "\n",
    "lt_ode_true = ODEProblem(cyclotron!, u0, t_long, p̃)\n",
    "lt_solution = solve(lt_ode_true, Rosenbrock23(), saveat=lt_predict.t)"
   ]
  },
  {
   "cell_type": "code",
   "execution_count": null,
   "id": "73206250",
   "metadata": {},
   "outputs": [],
   "source": [
    "S = Array(lt_solution)\n",
    "Σ = Array(lt_predict)\n",
    "\n",
    "plotLT = plot(S[1,:], S[2,:], color=\"#69409e\", alpha=1, lw=6, label=\"long-term solution\")\n",
    "plot!(Σ[1,:], Σ[2,:], color=\"#36c2f3\", alpha=1, lw=8, style=:dashdot, label=\"long-term prediction\")\n",
    "scatter!(X̃[1,:], X̃[2,:], color=\"#87CE51\", alpha=1.0, ms=8, label=\"Training data\")\n",
    "\n",
    "plot!(xlabel=L\"x(t)\", ylabel=L\"y(t)\",\n",
    "    margin=3mm,\n",
    "    xtickfont=font(12), \n",
    "    ytickfont=font(12), \n",
    "    guidefont=font(16),\n",
    "    legendfont=font(10),\n",
    "    size=(800,800),\n",
    "    framestyle=:box)\n",
    "savefig(\"cyclotron/longtermCyclotron.pdf\")"
   ]
  },
  {
   "cell_type": "code",
   "execution_count": null,
   "id": "6371e666",
   "metadata": {},
   "outputs": [],
   "source": []
  }
 ],
 "metadata": {
  "@webio": {
   "lastCommId": null,
   "lastKernelId": null
  },
  "kernelspec": {
   "display_name": "Julia 1.7.3",
   "language": "julia",
   "name": "julia-1.7"
  },
  "language_info": {
   "file_extension": ".jl",
   "mimetype": "application/julia",
   "name": "julia",
   "version": "1.7.3"
  },
  "widgets": {
   "application/vnd.jupyter.widget-state+json": {
    "state": {},
    "version_major": 2,
    "version_minor": 0
   }
  }
 },
 "nbformat": 4,
 "nbformat_minor": 5
}
